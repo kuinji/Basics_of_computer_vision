{
 "cells": [
  {
   "cell_type": "code",
   "execution_count": 1,
   "id": "20339c52",
   "metadata": {},
   "outputs": [],
   "source": [
    "import numpy as np"
   ]
  },
  {
   "cell_type": "code",
   "execution_count": 2,
   "id": "ec4554f5",
   "metadata": {},
   "outputs": [],
   "source": [
    "def get_input_shape(input_matrix_shape, filter_matrix_shape):\n",
    "    matrix_dim = len(input_matrix_shape)\n",
    "    filter_dim = len(filter_matrix_shape)\n",
    "    \n",
    "    if(matrix_dim == 3):\n",
    "        input_depth, input_height, input_width = input_matrix_shape\n",
    "    else:\n",
    "        input_height, input_width =input_matrix_shape\n",
    "        input_depth = 1\n",
    "        \n",
    "    if(filter_dim == 3):\n",
    "        filter_depth, filter_height, filter_width = filter_matrix_shape\n",
    "    else:\n",
    "        filter_height, filter_width = filter_matrix_shape\n",
    "        filter_depth = 1 \n",
    "        \n",
    "    return input_depth, input_height, input_width, filter_depth, filter_height, filter_width"
   ]
  },
  {
   "cell_type": "markdown",
   "id": "6e1cda50",
   "metadata": {},
   "source": [
    "### Прямая реализация свертки"
   ]
  },
  {
   "cell_type": "code",
   "execution_count": 3,
   "id": "d32110a3",
   "metadata": {},
   "outputs": [],
   "source": [
    "def direct_conv(input_matrix, filter_matrix):\n",
    "    input_depth, input_height, input_width, \\\n",
    "        filter_depth, filter_height, filter_width = get_input_shape(input_matrix.shape, filter_matrix.shape)\n",
    "    \n",
    "    output_depth = input_depth - filter_depth + 1\n",
    "    output_height = input_height - filter_height + 1\n",
    "    output_width = input_width - filter_width + 1\n",
    "    \n",
    "    output_matrix = np.zeros((output_depth, output_height, output_width))\n",
    "\n",
    "    for d in range(output_depth):\n",
    "        for i in range(output_height):\n",
    "            for j in range(output_width):\n",
    "                if(input_depth != 1):\n",
    "                    frame = input_matrix[d:d+filter_depth, i:i+filter_height, j:j+filter_width]\n",
    "                else:\n",
    "                    frame = input_matrix[i:i+filter_height, j:j+filter_width]\n",
    "                output_matrix[d, i, j] = np.sum(frame * filter_matrix)\n",
    "\n",
    "    return output_matrix"
   ]
  },
  {
   "cell_type": "markdown",
   "id": "1f5c0bc6",
   "metadata": {},
   "source": [
    "### Реализация свертки через im2col"
   ]
  },
  {
   "cell_type": "code",
   "execution_count": 4,
   "id": "8b944c6a",
   "metadata": {},
   "outputs": [],
   "source": [
    "def im2col(input_matrix, filter_shape = None):\n",
    "    if filter_shape == None:\n",
    "        return input_matrix.flatten()\n",
    "    \n",
    "    input_depth, input_height, input_width, \\\n",
    "        filter_depth, filter_height, filter_width = get_input_shape(input_matrix.shape, filter_shape)\n",
    "        \n",
    "    output_height = input_height - filter_height + 1\n",
    "    output_width = input_width - filter_width + 1\n",
    "\n",
    "    output = np.zeros((filter_height * filter_width * input_depth, output_height * output_width))\n",
    "\n",
    "    for d in range(input_depth):\n",
    "        for i in range(output_height):\n",
    "            for j in range(output_width):\n",
    "                if(input_depth != 1):\n",
    "                    frame = input_matrix[d, i:i + filter_height, j:j + filter_width]\n",
    "                else: \n",
    "                    frame = input_matrix[i:i + filter_height, j:j + filter_width]\n",
    "                output[d * filter_height * filter_width : (d + 1) * filter_height * filter_width,\n",
    "                           i * output_width + j] = frame.flatten()\n",
    "\n",
    "    return output.T"
   ]
  },
  {
   "cell_type": "code",
   "execution_count": 5,
   "id": "e0d304b9",
   "metadata": {},
   "outputs": [],
   "source": [
    "def im2col_conv(input_matrix, filter_matrix):\n",
    "    input_depth, input_height, input_width, \\\n",
    "        filter_depth, filter_height, filter_width = get_input_shape(input_matrix.shape,filter_matrix.shape)\n",
    "    \n",
    "    output_height = input_height - filter_height + 1\n",
    "    output_width = input_width - filter_width + 1\n",
    "    \n",
    "    res = np.dot(im2col(input_matrix, filter_matrix.shape), im2col(filter_matrix))\n",
    "    \n",
    "    if (len(input_matrix.shape) == 3) :    \n",
    "        return res.reshape(-1, output_height, output_width)\n",
    "    else:\n",
    "        return res.reshape(output_height, output_width)"
   ]
  },
  {
   "cell_type": "markdown",
   "id": "ca86849c",
   "metadata": {},
   "source": [
    "### Сиа"
   ]
  },
  {
   "cell_type": "code",
   "execution_count": 6,
   "id": "d3dfb405",
   "metadata": {},
   "outputs": [
    {
     "name": "stdout",
     "output_type": "stream",
     "text": [
      "Input matrix:\n",
      " [[2 0 0 8 6 8]\n",
      " [9 4 3 0 1 0]\n",
      " [8 4 4 5 3 1]\n",
      " [4 9 4 7 4 2]\n",
      " [3 8 2 9 9 7]\n",
      " [2 2 4 7 6 9]]\n",
      "\n",
      "Filter matrix:\n",
      " [[ 0 -1  0]\n",
      " [-1  5 -1]\n",
      " [ 0 -1  0]]\n"
     ]
    }
   ],
   "source": [
    "input_matrix_2d = np.random.randint(0, 10, size=(6, 6), dtype=int)\n",
    "filter_matrix_2d = np.array([[0, -1, 0],\n",
    "                             [-1, 5, -1], \n",
    "                             [0, -1, 0]])\n",
    "\n",
    "print(\"Input matrix:\\n\", input_matrix_2d)\n",
    "print()\n",
    "print(\"Filter matrix:\\n\", filter_matrix_2d)"
   ]
  },
  {
   "cell_type": "code",
   "execution_count": 7,
   "id": "e56f0eb9",
   "metadata": {},
   "outputs": [
    {
     "name": "stdout",
     "output_type": "stream",
     "text": [
      "Direct convolutional 2d:\n",
      " [[[  4.   7. -17.  -4.]\n",
      "  [ -5.   4.  11.   4.]\n",
      "  [ 25.  -2.  13.  -1.]\n",
      "  [ 24. -15.  20.  19.]]]\n"
     ]
    }
   ],
   "source": [
    "print(\"Direct convolutional 2d:\\n\", direct_conv(input_matrix_2d, filter_matrix_2d))"
   ]
  },
  {
   "cell_type": "code",
   "execution_count": 8,
   "id": "4aa40d54",
   "metadata": {},
   "outputs": [
    {
     "name": "stdout",
     "output_type": "stream",
     "text": [
      "Im2col convolutional 2d:\n",
      " [[  4.   7. -17.  -4.]\n",
      " [ -5.   4.  11.   4.]\n",
      " [ 25.  -2.  13.  -1.]\n",
      " [ 24. -15.  20.  19.]]\n"
     ]
    }
   ],
   "source": [
    "print(\"Im2col convolutional 2d:\\n\", im2col_conv(input_matrix_2d, filter_matrix_2d))"
   ]
  },
  {
   "cell_type": "code",
   "execution_count": 9,
   "id": "b9d91193",
   "metadata": {},
   "outputs": [
    {
     "name": "stdout",
     "output_type": "stream",
     "text": [
      "Input matrix:\n",
      " [[[2 2 0 1 2]\n",
      "  [6 3 5 6 5]\n",
      "  [5 5 0 8 9]\n",
      "  [3 8 7 0 0]\n",
      "  [5 5 7 7 2]]\n",
      "\n",
      " [[1 8 7 3 6]\n",
      "  [2 9 1 7 9]\n",
      "  [8 6 7 3 8]\n",
      "  [2 7 9 2 4]\n",
      "  [0 8 6 9 8]]]\n",
      "\n",
      "Filter matrix:\n",
      " [[[ 0 -1]\n",
      "  [ 1  0]]\n",
      "\n",
      " [[ 0  1]\n",
      "  [ 0 -1]]]\n"
     ]
    }
   ],
   "source": [
    "input_matrix_3d = np.random.randint(0, 10, size=(2, 5, 5), dtype=int)\n",
    "filter_matrix_3d = np.array(([[0, -1], [1, 0]],\n",
    "                             [[0, 1], [0, -1]]))\n",
    "\n",
    "print(\"Input matrix:\\n\", input_matrix_3d)\n",
    "print()\n",
    "print(\"Filter matrix:\\n\", filter_matrix_3d)"
   ]
  },
  {
   "cell_type": "code",
   "execution_count": 10,
   "id": "9f902837",
   "metadata": {},
   "outputs": [
    {
     "name": "stdout",
     "output_type": "stream",
     "text": [
      "Direct convolutional 3d:\n",
      " [[[ 3.  9.  0.  1.]\n",
      "  [ 5. -6. -2.  4.]\n",
      "  [-3.  6.  0. -5.]\n",
      "  [-4.  1.  0.  3.]]]\n"
     ]
    }
   ],
   "source": [
    "print(\"Direct convolutional 3d:\\n\", direct_conv(input_matrix_3d, filter_matrix_3d))"
   ]
  },
  {
   "cell_type": "code",
   "execution_count": 11,
   "id": "575bc61d",
   "metadata": {},
   "outputs": [
    {
     "name": "stdout",
     "output_type": "stream",
     "text": [
      "Im2col convolutional 3d:\n",
      " [[[ 3.  9.  0.  1.]\n",
      "  [ 5. -6. -2.  4.]\n",
      "  [-3.  6.  0. -5.]\n",
      "  [-4.  1.  0.  3.]]]\n"
     ]
    }
   ],
   "source": [
    "print(\"Im2col convolutional 3d:\\n\", im2col_conv(input_matrix_3d, filter_matrix_3d))"
   ]
  }
 ],
 "metadata": {
  "kernelspec": {
   "display_name": "Python 3 (ipykernel)",
   "language": "python",
   "name": "python3"
  },
  "language_info": {
   "codemirror_mode": {
    "name": "ipython",
    "version": 3
   },
   "file_extension": ".py",
   "mimetype": "text/x-python",
   "name": "python",
   "nbconvert_exporter": "python",
   "pygments_lexer": "ipython3",
   "version": "3.10.5"
  }
 },
 "nbformat": 4,
 "nbformat_minor": 5
}
